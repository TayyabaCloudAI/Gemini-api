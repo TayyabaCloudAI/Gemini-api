{
  "nbformat": 4,
  "nbformat_minor": 0,
  "metadata": {
    "colab": {
      "provenance": [],
      "authorship_tag": "ABX9TyO5ZARsBFDtL5WNMOYrC4so",
      "include_colab_link": true
    },
    "kernelspec": {
      "name": "python3",
      "display_name": "Python 3"
    },
    "language_info": {
      "name": "python"
    }
  },
  "cells": [
    {
      "cell_type": "markdown",
      "metadata": {
        "id": "view-in-github",
        "colab_type": "text"
      },
      "source": [
        "<a href=\"https://colab.research.google.com/github/TayyabaCloudAI/Gemini-api/blob/main/Untitled6.ipynb\" target=\"_parent\"><img src=\"https://colab.research.google.com/assets/colab-badge.svg\" alt=\"Open In Colab\"/></a>"
      ]
    },
    {
      "cell_type": "code",
      "execution_count": 1,
      "metadata": {
        "colab": {
          "base_uri": "https://localhost:8080/"
        },
        "id": "BCFhOXSr7t2a",
        "outputId": "a47432b8-21f2-42aa-8013-52dd110b8f01"
      },
      "outputs": [
        {
          "output_type": "stream",
          "name": "stdout",
          "text": [
            "\u001b[2K   \u001b[90m━━━━━━━━━━━━━━━━━━━━━━━━━━━━━━━━━━━━━━━━\u001b[0m \u001b[32m1.0/1.0 MB\u001b[0m \u001b[31m14.8 MB/s\u001b[0m eta \u001b[36m0:00:00\u001b[0m\n",
            "\u001b[2K   \u001b[90m━━━━━━━━━━━━━━━━━━━━━━━━━━━━━━━━━━━━━━━━\u001b[0m \u001b[32m411.6/411.6 kB\u001b[0m \u001b[31m21.3 MB/s\u001b[0m eta \u001b[36m0:00:00\u001b[0m\n",
            "\u001b[2K   \u001b[90m━━━━━━━━━━━━━━━━━━━━━━━━━━━━━━━━━━━━━━━━\u001b[0m \u001b[32m41.3/41.3 kB\u001b[0m \u001b[31m2.8 MB/s\u001b[0m eta \u001b[36m0:00:00\u001b[0m\n",
            "\u001b[?25h"
          ]
        }
      ],
      "source": [
        "!pip install -q -U langchain\n",
        "!pip install -q -U langchain-google-genai\n"
      ]
    },
    {
      "cell_type": "code",
      "source": [
        "import IPython\n",
        "app = IPython.Application.instance()\n",
        "app.kernel.do_shutdown(True)\n"
      ],
      "metadata": {
        "colab": {
          "base_uri": "https://localhost:8080/"
        },
        "id": "MzV7ngpL8ZXV",
        "outputId": "94a2e983-1827-4fc6-85d5-c3f56a4e5521"
      },
      "execution_count": 2,
      "outputs": [
        {
          "output_type": "execute_result",
          "data": {
            "text/plain": [
              "{'status': 'ok', 'restart': True}"
            ]
          },
          "metadata": {},
          "execution_count": 2
        }
      ]
    },
    {
      "cell_type": "code",
      "source": [
        "import textwrap\n",
        "from IPython.display import Markdown\n",
        "def to_markdown(text) -> Markdown:\n",
        "    text: str = text.replace(\"•\", \"  *\")\n",
        "    return Markdown(textwrap.indent(text, \"> \", predicate=lambda _: True))\n",
        "\n",
        "from google.colab import userdata\n"
      ],
      "metadata": {
        "id": "Nela2vgR9GwH"
      },
      "execution_count": 2,
      "outputs": []
    },
    {
      "cell_type": "code",
      "source": [
        "google_api_key = userdata.get('GOOGLE_API_KEY')\n"
      ],
      "metadata": {
        "id": "5x3WhA1i-AFQ"
      },
      "execution_count": 3,
      "outputs": []
    },
    {
      "cell_type": "code",
      "source": [
        "from langchain_google_genai import ChatGoogleGenerativeAI\n",
        "from langchain_core.messages.ai import AIMessage\n",
        "llm: ChatGoogleGenerativeAI = ChatGoogleGenerativeAI(\n",
        "    model=\"gemini-1.5-flash\",\n",
        " api_key=google_api_key,\n",
        "    temperature=0.2,\n",
        ")\n",
        ""
      ],
      "metadata": {
        "id": "sTp7ho61-QDj"
      },
      "execution_count": 5,
      "outputs": []
    },
    {
      "cell_type": "code",
      "source": [
        "ai_msg: AIMessage = llm.invoke(\"In which countries we can see northern lights?\")\n"
      ],
      "metadata": {
        "id": "QiDsubYh-e_q"
      },
      "execution_count": 6,
      "outputs": []
    },
    {
      "cell_type": "code",
      "source": [
        "ai_msg\n"
      ],
      "metadata": {
        "colab": {
          "base_uri": "https://localhost:8080/"
        },
        "id": "1WjOIg1q-9ha",
        "outputId": "7eafe408-32cc-4f47-e812-b2e382ac7ba9"
      },
      "execution_count": 7,
      "outputs": [
        {
          "output_type": "execute_result",
          "data": {
            "text/plain": [
              "AIMessage(content=\"The Northern Lights, or Aurora Borealis, are best seen in a band around the Arctic Circle.  This means you'll have the best chances in countries that include parts of this region.  These include:\\n\\n* **Canada:**  Especially Yukon, Northwest Territories, Nunavut, and parts of Alberta, Saskatchewan, and Manitoba.\\n* **United States (Alaska):**  Fairbanks is a popular viewing spot.\\n* **Greenland:**  Offers excellent viewing opportunities across the island.\\n* **Iceland:**  Relatively accessible and popular for aurora viewing.\\n* **Norway:**  Northern Norway (Tromsø, the Lofoten Islands, North Cape) is renowned for aurora viewing.\\n* **Sweden:**  Northern Sweden (Abisko National Park is a particularly good location).\\n* **Finland:**  Lapland region offers good chances.\\n* **Russia:**  Northern regions like Siberia offer viewing opportunities, though accessibility can be a factor.\\n* **Scotland:**  While less frequent and intense than further north, the aurora can sometimes be seen from the northernmost parts of Scotland.\\n\\n\\nIt's important to note that even within these countries, the best viewing locations are typically far north, away from light pollution.  The further north you go, the higher your chances of seeing the aurora.  The time of year (winter months, typically September to April) and solar activity also play a significant role.\\n\", additional_kwargs={}, response_metadata={'prompt_feedback': {'block_reason': 0, 'safety_ratings': []}, 'finish_reason': 'STOP', 'safety_ratings': []}, id='run-6614bd58-644f-4a1e-a05c-083c125d08c2-0', usage_metadata={'input_tokens': 10, 'output_tokens': 291, 'total_tokens': 301, 'input_token_details': {'cache_read': 0}})"
            ]
          },
          "metadata": {},
          "execution_count": 7
        }
      ]
    },
    {
      "cell_type": "code",
      "source": [
        "ai_msg.content\n"
      ],
      "metadata": {
        "colab": {
          "base_uri": "https://localhost:8080/",
          "height": 139
        },
        "id": "gIZkaAfD_BuM",
        "outputId": "84d30ac0-8575-43e3-b54e-cae31cb635ad"
      },
      "execution_count": 8,
      "outputs": [
        {
          "output_type": "execute_result",
          "data": {
            "text/plain": [
              "\"The Northern Lights, or Aurora Borealis, are best seen in a band around the Arctic Circle.  This means you'll have the best chances in countries that include parts of this region.  These include:\\n\\n* **Canada:**  Especially Yukon, Northwest Territories, Nunavut, and parts of Alberta, Saskatchewan, and Manitoba.\\n* **United States (Alaska):**  Fairbanks is a popular viewing spot.\\n* **Greenland:**  Offers excellent viewing opportunities across the island.\\n* **Iceland:**  Relatively accessible and popular for aurora viewing.\\n* **Norway:**  Northern Norway (Tromsø, the Lofoten Islands, North Cape) is renowned for aurora viewing.\\n* **Sweden:**  Northern Sweden (Abisko National Park is a particularly good location).\\n* **Finland:**  Lapland region offers good chances.\\n* **Russia:**  Northern regions like Siberia offer viewing opportunities, though accessibility can be a factor.\\n* **Scotland:**  While less frequent and intense than further north, the aurora can sometimes be seen from the northernmost parts of Scotland.\\n\\n\\nIt's important to note that even within these countries, the best viewing locations are typically far north, away from light pollution.  The further north you go, the higher your chances of seeing the aurora.  The time of year (winter months, typically September to April) and solar activity also play a significant role.\\n\""
            ],
            "application/vnd.google.colaboratory.intrinsic+json": {
              "type": "string"
            }
          },
          "metadata": {},
          "execution_count": 8
        }
      ]
    },
    {
      "cell_type": "code",
      "source": [
        "to_markdown(ai_msg.content)\n"
      ],
      "metadata": {
        "colab": {
          "base_uri": "https://localhost:8080/",
          "height": 300
        },
        "id": "ZeCBt9LY_Lx6",
        "outputId": "01378a39-f6af-4b5a-d4da-5427265df3d4"
      },
      "execution_count": 9,
      "outputs": [
        {
          "output_type": "execute_result",
          "data": {
            "text/plain": [
              "<IPython.core.display.Markdown object>"
            ],
            "text/markdown": "> The Northern Lights, or Aurora Borealis, are best seen in a band around the Arctic Circle.  This means you'll have the best chances in countries that include parts of this region.  These include:\n> \n> * **Canada:**  Especially Yukon, Northwest Territories, Nunavut, and parts of Alberta, Saskatchewan, and Manitoba.\n> * **United States (Alaska):**  Fairbanks is a popular viewing spot.\n> * **Greenland:**  Offers excellent viewing opportunities across the island.\n> * **Iceland:**  Relatively accessible and popular for aurora viewing.\n> * **Norway:**  Northern Norway (Tromsø, the Lofoten Islands, North Cape) is renowned for aurora viewing.\n> * **Sweden:**  Northern Sweden (Abisko National Park is a particularly good location).\n> * **Finland:**  Lapland region offers good chances.\n> * **Russia:**  Northern regions like Siberia offer viewing opportunities, though accessibility can be a factor.\n> * **Scotland:**  While less frequent and intense than further north, the aurora can sometimes be seen from the northernmost parts of Scotland.\n> \n> \n> It's important to note that even within these countries, the best viewing locations are typically far north, away from light pollution.  The further north you go, the higher your chances of seeing the aurora.  The time of year (winter months, typically September to April) and solar activity also play a significant role.\n"
          },
          "metadata": {},
          "execution_count": 9
        }
      ]
    },
    {
      "cell_type": "code",
      "source": [],
      "metadata": {
        "id": "81O4Zc4j_MZ6"
      },
      "execution_count": null,
      "outputs": []
    }
  ]
}